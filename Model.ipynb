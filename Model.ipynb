{
 "cells": [
  {
   "cell_type": "code",
   "execution_count": 1,
   "id": "39988286",
   "metadata": {},
   "outputs": [],
   "source": [
    "import gensim.downloader as api\n",
    "wv = api.load('word2vec-google-news-300')"
   ]
  },
  {
   "cell_type": "code",
   "execution_count": 6,
   "id": "9876d231",
   "metadata": {},
   "outputs": [
    {
     "name": "stdout",
     "output_type": "stream",
     "text": [
      "(44898, 5)\n"
     ]
    },
    {
     "data": {
      "text/html": [
       "<div>\n",
       "<style scoped>\n",
       "    .dataframe tbody tr th:only-of-type {\n",
       "        vertical-align: middle;\n",
       "    }\n",
       "\n",
       "    .dataframe tbody tr th {\n",
       "        vertical-align: top;\n",
       "    }\n",
       "\n",
       "    .dataframe thead th {\n",
       "        text-align: right;\n",
       "    }\n",
       "</style>\n",
       "<table border=\"1\" class=\"dataframe\">\n",
       "  <thead>\n",
       "    <tr style=\"text-align: right;\">\n",
       "      <th></th>\n",
       "      <th>title</th>\n",
       "      <th>text</th>\n",
       "      <th>subject</th>\n",
       "      <th>date</th>\n",
       "      <th>label_num</th>\n",
       "    </tr>\n",
       "  </thead>\n",
       "  <tbody>\n",
       "    <tr>\n",
       "      <th>0</th>\n",
       "      <td>Report: Clinton May Pick Elizabeth Warren As ...</td>\n",
       "      <td>Speculation has been mounting recently that De...</td>\n",
       "      <td>News</td>\n",
       "      <td>June 3, 2016</td>\n",
       "      <td>0</td>\n",
       "    </tr>\n",
       "    <tr>\n",
       "      <th>1</th>\n",
       "      <td>Sanders will vote for Clinton to stop Trump</td>\n",
       "      <td>WASHINGTON (Reuters) - U.S. Democratic preside...</td>\n",
       "      <td>politicsNews</td>\n",
       "      <td>June 24, 2016</td>\n",
       "      <td>1</td>\n",
       "    </tr>\n",
       "    <tr>\n",
       "      <th>2</th>\n",
       "      <td>Egypt says captured fighter involved in deadly...</td>\n",
       "      <td>CAIRO (Reuters) - A foreign fighter captured d...</td>\n",
       "      <td>worldnews</td>\n",
       "      <td>November 16, 2017</td>\n",
       "      <td>1</td>\n",
       "    </tr>\n",
       "    <tr>\n",
       "      <th>3</th>\n",
       "      <td>Kenyan president, election overturned by court...</td>\n",
       "      <td>NAIROBI (Reuters) - Kenyan President Uhuru Ken...</td>\n",
       "      <td>worldnews</td>\n",
       "      <td>September 2, 2017</td>\n",
       "      <td>1</td>\n",
       "    </tr>\n",
       "    <tr>\n",
       "      <th>4</th>\n",
       "      <td>Rep. Ted Lieu Issues Blistering Takedown Of T...</td>\n",
       "      <td>Anyone who knows anything about the separation...</td>\n",
       "      <td>News</td>\n",
       "      <td>April 9, 2017</td>\n",
       "      <td>0</td>\n",
       "    </tr>\n",
       "  </tbody>\n",
       "</table>\n",
       "</div>"
      ],
      "text/plain": [
       "                                               title  \\\n",
       "0   Report: Clinton May Pick Elizabeth Warren As ...   \n",
       "1        Sanders will vote for Clinton to stop Trump   \n",
       "2  Egypt says captured fighter involved in deadly...   \n",
       "3  Kenyan president, election overturned by court...   \n",
       "4   Rep. Ted Lieu Issues Blistering Takedown Of T...   \n",
       "\n",
       "                                                text       subject  \\\n",
       "0  Speculation has been mounting recently that De...          News   \n",
       "1  WASHINGTON (Reuters) - U.S. Democratic preside...  politicsNews   \n",
       "2  CAIRO (Reuters) - A foreign fighter captured d...     worldnews   \n",
       "3  NAIROBI (Reuters) - Kenyan President Uhuru Ken...     worldnews   \n",
       "4  Anyone who knows anything about the separation...          News   \n",
       "\n",
       "                 date  label_num  \n",
       "0        June 3, 2016          0  \n",
       "1      June 24, 2016           1  \n",
       "2  November 16, 2017           1  \n",
       "3  September 2, 2017           1  \n",
       "4       April 9, 2017          0  "
      ]
     },
     "execution_count": 6,
     "metadata": {},
     "output_type": "execute_result"
    }
   ],
   "source": [
    "import pandas as pd\n",
    "\n",
    "\n",
    "#read the dataset with name \"Fake_Real_Data.csv\" and store it in a variable df\n",
    "df1 = pd.read_csv(\"Fake.csv\")\n",
    "df1['label_num']=0\n",
    "\n",
    "df2=pd.read_csv('True.csv')\n",
    "df2['label_num']=1\n",
    "df=pd.concat([df1,df2],axis=0).reset_index(drop=True)\n",
    "df = df.sample(frac=1).reset_index(drop=True)\n",
    "\n",
    "#print the shape of dataframe\n",
    "print(df.shape)\n",
    "\n",
    "#print top 5 rows\n",
    "df.head(5)"
   ]
  },
  {
   "cell_type": "code",
   "execution_count": 15,
   "id": "7e2938e7",
   "metadata": {},
   "outputs": [
    {
     "data": {
      "text/html": [
       "<div>\n",
       "<style scoped>\n",
       "    .dataframe tbody tr th:only-of-type {\n",
       "        vertical-align: middle;\n",
       "    }\n",
       "\n",
       "    .dataframe tbody tr th {\n",
       "        vertical-align: top;\n",
       "    }\n",
       "\n",
       "    .dataframe thead th {\n",
       "        text-align: right;\n",
       "    }\n",
       "</style>\n",
       "<table border=\"1\" class=\"dataframe\">\n",
       "  <thead>\n",
       "    <tr style=\"text-align: right;\">\n",
       "      <th></th>\n",
       "      <th>title</th>\n",
       "      <th>text</th>\n",
       "      <th>subject</th>\n",
       "      <th>date</th>\n",
       "      <th>label_num</th>\n",
       "    </tr>\n",
       "  </thead>\n",
       "  <tbody>\n",
       "    <tr>\n",
       "      <th>0</th>\n",
       "      <td>U.S. appeals court will not put Trump travel b...</td>\n",
       "      <td>SAN FRANCISCO (Reuters) - A federal appeals co...</td>\n",
       "      <td>politicsNews</td>\n",
       "      <td>February 27, 2017</td>\n",
       "      <td>1</td>\n",
       "    </tr>\n",
       "    <tr>\n",
       "      <th>1</th>\n",
       "      <td>John Cleese Just BURNED Trump Voters For Bein...</td>\n",
       "      <td>Trump voters are stupid enough to defend him n...</td>\n",
       "      <td>News</td>\n",
       "      <td>October 21, 2016</td>\n",
       "      <td>0</td>\n",
       "    </tr>\n",
       "    <tr>\n",
       "      <th>2</th>\n",
       "      <td>Ben Stein Calls Out 9th Circuit Court: Committ...</td>\n",
       "      <td>21st Century Wire says Ben Stein, reputable pr...</td>\n",
       "      <td>US_News</td>\n",
       "      <td>February 13, 2017</td>\n",
       "      <td>0</td>\n",
       "    </tr>\n",
       "    <tr>\n",
       "      <th>3</th>\n",
       "      <td>After German election, Macron to set out his v...</td>\n",
       "      <td>PARIS (Reuters) - French President Emmanuel Ma...</td>\n",
       "      <td>worldnews</td>\n",
       "      <td>September 25, 2017</td>\n",
       "      <td>1</td>\n",
       "    </tr>\n",
       "    <tr>\n",
       "      <th>4</th>\n",
       "      <td>An umbrella for shade: Rohingya refugee boy wo...</td>\n",
       "      <td>COX S BAZAR, Bangladesh (Reuters) - Twelve-yea...</td>\n",
       "      <td>worldnews</td>\n",
       "      <td>November 10, 2017</td>\n",
       "      <td>1</td>\n",
       "    </tr>\n",
       "  </tbody>\n",
       "</table>\n",
       "</div>"
      ],
      "text/plain": [
       "                                               title  \\\n",
       "0  U.S. appeals court will not put Trump travel b...   \n",
       "1   John Cleese Just BURNED Trump Voters For Bein...   \n",
       "2  Ben Stein Calls Out 9th Circuit Court: Committ...   \n",
       "3  After German election, Macron to set out his v...   \n",
       "4  An umbrella for shade: Rohingya refugee boy wo...   \n",
       "\n",
       "                                                text       subject  \\\n",
       "0  SAN FRANCISCO (Reuters) - A federal appeals co...  politicsNews   \n",
       "1  Trump voters are stupid enough to defend him n...          News   \n",
       "2  21st Century Wire says Ben Stein, reputable pr...       US_News   \n",
       "3  PARIS (Reuters) - French President Emmanuel Ma...     worldnews   \n",
       "4  COX S BAZAR, Bangladesh (Reuters) - Twelve-yea...     worldnews   \n",
       "\n",
       "                  date  label_num  \n",
       "0   February 27, 2017           1  \n",
       "1     October 21, 2016          0  \n",
       "2    February 13, 2017          0  \n",
       "3  September 25, 2017           1  \n",
       "4   November 10, 2017           1  "
      ]
     },
     "execution_count": 15,
     "metadata": {},
     "output_type": "execute_result"
    }
   ],
   "source": [
    "df=df.sample(n=10000).reset_index(drop=True)\n",
    "df.head(5)\n"
   ]
  },
  {
   "cell_type": "code",
   "execution_count": 16,
   "id": "e06244b1",
   "metadata": {},
   "outputs": [],
   "source": [
    "import spacy\n",
    "nlp = spacy.load(\"en_core_web_lg\") # if this fails then run \"python -m spacy download en_core_web_lg\" to download that model\n",
    "\n",
    "def preprocess_and_vectorize(text):\n",
    "    # remove stop words and lemmatize the text\n",
    "    doc = nlp(text)\n",
    "    filtered_tokens = []\n",
    "    for token in doc:\n",
    "        if token.is_stop or token.is_punct:\n",
    "            continue\n",
    "        filtered_tokens.append(token.lemma_)\n",
    "        \n",
    "    return wv.get_mean_vector(filtered_tokens)"
   ]
  },
  {
   "cell_type": "code",
   "execution_count": 17,
   "id": "15af1595",
   "metadata": {},
   "outputs": [],
   "source": [
    "df['vector'] = df['text'].apply(lambda text: preprocess_and_vectorize(text))"
   ]
  },
  {
   "cell_type": "code",
   "execution_count": 18,
   "id": "48ede997",
   "metadata": {},
   "outputs": [
    {
     "data": {
      "text/html": [
       "<div>\n",
       "<style scoped>\n",
       "    .dataframe tbody tr th:only-of-type {\n",
       "        vertical-align: middle;\n",
       "    }\n",
       "\n",
       "    .dataframe tbody tr th {\n",
       "        vertical-align: top;\n",
       "    }\n",
       "\n",
       "    .dataframe thead th {\n",
       "        text-align: right;\n",
       "    }\n",
       "</style>\n",
       "<table border=\"1\" class=\"dataframe\">\n",
       "  <thead>\n",
       "    <tr style=\"text-align: right;\">\n",
       "      <th></th>\n",
       "      <th>title</th>\n",
       "      <th>text</th>\n",
       "      <th>subject</th>\n",
       "      <th>date</th>\n",
       "      <th>label_num</th>\n",
       "      <th>vector</th>\n",
       "    </tr>\n",
       "  </thead>\n",
       "  <tbody>\n",
       "    <tr>\n",
       "      <th>0</th>\n",
       "      <td>U.S. appeals court will not put Trump travel b...</td>\n",
       "      <td>SAN FRANCISCO (Reuters) - A federal appeals co...</td>\n",
       "      <td>politicsNews</td>\n",
       "      <td>February 27, 2017</td>\n",
       "      <td>1</td>\n",
       "      <td>[0.006210484, 0.011996382, 0.010758904, 0.0165...</td>\n",
       "    </tr>\n",
       "    <tr>\n",
       "      <th>1</th>\n",
       "      <td>John Cleese Just BURNED Trump Voters For Bein...</td>\n",
       "      <td>Trump voters are stupid enough to defend him n...</td>\n",
       "      <td>News</td>\n",
       "      <td>October 21, 2016</td>\n",
       "      <td>0</td>\n",
       "      <td>[0.020931138, 0.010147419, -0.004629064, 0.029...</td>\n",
       "    </tr>\n",
       "    <tr>\n",
       "      <th>2</th>\n",
       "      <td>Ben Stein Calls Out 9th Circuit Court: Committ...</td>\n",
       "      <td>21st Century Wire says Ben Stein, reputable pr...</td>\n",
       "      <td>US_News</td>\n",
       "      <td>February 13, 2017</td>\n",
       "      <td>0</td>\n",
       "      <td>[-0.002356247, 0.011744057, -0.006170731, 0.02...</td>\n",
       "    </tr>\n",
       "    <tr>\n",
       "      <th>3</th>\n",
       "      <td>After German election, Macron to set out his v...</td>\n",
       "      <td>PARIS (Reuters) - French President Emmanuel Ma...</td>\n",
       "      <td>worldnews</td>\n",
       "      <td>September 25, 2017</td>\n",
       "      <td>1</td>\n",
       "      <td>[0.007948073, 0.01623444, 0.0027996413, 0.0330...</td>\n",
       "    </tr>\n",
       "    <tr>\n",
       "      <th>4</th>\n",
       "      <td>An umbrella for shade: Rohingya refugee boy wo...</td>\n",
       "      <td>COX S BAZAR, Bangladesh (Reuters) - Twelve-yea...</td>\n",
       "      <td>worldnews</td>\n",
       "      <td>November 10, 2017</td>\n",
       "      <td>1</td>\n",
       "      <td>[0.0063077514, 0.018896408, -0.000107193, 0.02...</td>\n",
       "    </tr>\n",
       "  </tbody>\n",
       "</table>\n",
       "</div>"
      ],
      "text/plain": [
       "                                               title  \\\n",
       "0  U.S. appeals court will not put Trump travel b...   \n",
       "1   John Cleese Just BURNED Trump Voters For Bein...   \n",
       "2  Ben Stein Calls Out 9th Circuit Court: Committ...   \n",
       "3  After German election, Macron to set out his v...   \n",
       "4  An umbrella for shade: Rohingya refugee boy wo...   \n",
       "\n",
       "                                                text       subject  \\\n",
       "0  SAN FRANCISCO (Reuters) - A federal appeals co...  politicsNews   \n",
       "1  Trump voters are stupid enough to defend him n...          News   \n",
       "2  21st Century Wire says Ben Stein, reputable pr...       US_News   \n",
       "3  PARIS (Reuters) - French President Emmanuel Ma...     worldnews   \n",
       "4  COX S BAZAR, Bangladesh (Reuters) - Twelve-yea...     worldnews   \n",
       "\n",
       "                  date  label_num  \\\n",
       "0   February 27, 2017           1   \n",
       "1     October 21, 2016          0   \n",
       "2    February 13, 2017          0   \n",
       "3  September 25, 2017           1   \n",
       "4   November 10, 2017           1   \n",
       "\n",
       "                                              vector  \n",
       "0  [0.006210484, 0.011996382, 0.010758904, 0.0165...  \n",
       "1  [0.020931138, 0.010147419, -0.004629064, 0.029...  \n",
       "2  [-0.002356247, 0.011744057, -0.006170731, 0.02...  \n",
       "3  [0.007948073, 0.01623444, 0.0027996413, 0.0330...  \n",
       "4  [0.0063077514, 0.018896408, -0.000107193, 0.02...  "
      ]
     },
     "execution_count": 18,
     "metadata": {},
     "output_type": "execute_result"
    }
   ],
   "source": [
    "df.head()"
   ]
  },
  {
   "cell_type": "code",
   "execution_count": 19,
   "id": "7c4bd704",
   "metadata": {},
   "outputs": [],
   "source": [
    "from sklearn.model_selection import train_test_split\n",
    "\n",
    "\n",
    "#Do the 'train-test' splitting with test size of 20% with random state of 2022 and stratify sampling too\n",
    "X_train, X_test, y_train, y_test = train_test_split(\n",
    "    df.vector.values, \n",
    "    df.label_num, \n",
    "    test_size=0.2, # 20% samples will go to test dataset\n",
    "    random_state=2022,\n",
    "    stratify=df.label_num\n",
    ")"
   ]
  },
  {
   "cell_type": "code",
   "execution_count": 21,
   "id": "3b963cc9",
   "metadata": {},
   "outputs": [
    {
     "name": "stdout",
     "output_type": "stream",
     "text": [
      "Shape of X_train before reshaping:  (8000,)\n",
      "Shape of X_test before reshaping:  (2000,)\n",
      "Shape of X_train after reshaping:  (8000, 300)\n",
      "Shape of X_test after reshaping:  (2000, 300)\n"
     ]
    }
   ],
   "source": [
    "import numpy as np\n",
    "print(\"Shape of X_train before reshaping: \", X_train.shape)\n",
    "print(\"Shape of X_test before reshaping: \", X_test.shape)\n",
    "\n",
    "\n",
    "X_train_2d = np.stack(X_train)\n",
    "X_test_2d =  np.stack(X_test)\n",
    "\n",
    "print(\"Shape of X_train after reshaping: \", X_train_2d.shape)\n",
    "print(\"Shape of X_test after reshaping: \", X_test_2d.shape)"
   ]
  },
  {
   "cell_type": "code",
   "execution_count": 27,
   "id": "f7753e79",
   "metadata": {},
   "outputs": [
    {
     "name": "stdout",
     "output_type": "stream",
     "text": [
      "              precision    recall  f1-score   support\n",
      "\n",
      "           0       0.95      0.92      0.93      1050\n",
      "           1       0.91      0.95      0.93       950\n",
      "\n",
      "    accuracy                           0.93      2000\n",
      "   macro avg       0.93      0.93      0.93      2000\n",
      "weighted avg       0.93      0.93      0.93      2000\n",
      "\n",
      "0.932\n"
     ]
    }
   ],
   "source": [
    "from  sklearn.neighbors import KNeighborsClassifier\n",
    "from sklearn.metrics import classification_report,accuracy_score\n",
    "\n",
    "#1. creating a KNN model object\n",
    "clf = KNeighborsClassifier(n_neighbors = 5, metric = 'euclidean')\n",
    "\n",
    "#2. fit with all_train_embeddings and y_train\n",
    "clf.fit(X_train_2d, y_train)\n",
    "\n",
    "#3. get the predictions for all_test_embeddings and store it in y_pred\n",
    "y_pred = clf.predict(X_test_2d)\n",
    "accuracy_score=accuracy_score(y_test,y_pred)\n",
    "\n",
    "#4. print the classfication report\n",
    "print(classification_report(y_test, y_pred))\n",
    "print(accuracy_score)"
   ]
  },
  {
   "cell_type": "code",
   "execution_count": null,
   "id": "75ae94a2",
   "metadata": {},
   "outputs": [],
   "source": [
    "test_news = [\n",
    "    \"Michigan governor denies misleading U.S. House on Flint water (Reuters) - Michigan Governor Rick Snyder denied Thursday that he had misled a U.S. House of Representatives committee last year over testimony on Flintâ€™s water crisis after lawmakers asked if his testimony had been contradicted by a witness in a court hearing. The House Oversight and Government Reform Committee wrote Snyder earlier Thursday asking him about published reports that one of his aides, Harvey Hollins, testified in a court hearing last week in Michigan that he had notified Snyder of an outbreak of Legionnairesâ€™ disease linked to the Flint water crisis in December 2015, rather than 2016 as Snyder had testified. â€œMy testimony was truthful and I stand by it,â€ Snyder told the committee in a letter, adding that his office has provided tens of thousands of pages of records to the committee and would continue to cooperate fully.  Last week, prosecutors in Michigan said Dr. Eden Wells, the stateâ€™s chief medical executive who already faced lesser charges, would become the sixth current or former official to face involuntary manslaughter charges in connection with the crisis. The charges stem from more than 80 cases of Legionnairesâ€™ disease and at least 12 deaths that were believed to be linked to the water in Flint after the city switched its source from Lake Huron to the Flint River in April 2014. Wells was among six current and former Michigan and Flint officials charged in June. The other five, including Michigan Health and Human Services Director Nick Lyon, were charged at the time with involuntary manslaughter\",\n",
    "    \" WATCH: Fox News Host Loses Her Sh*t, Says Investigating Russia For Hacking Our Election Is Unpatriotic This woman is insane.In an incredibly disrespectful rant against President Obama and anyone else who supports investigating Russian interference in our election, Fox News host Jeanine Pirro said that anybody who is against Donald Trump is anti-American. Look, it s time to take sides,  she began.\",\n",
    "    \" Sarah Palin Celebrates After White Man Who Pulled Gun On Black Protesters Goes Unpunished (VIDEO) Sarah Palin, one of the nigh-innumerable  deplorables  in Donald Trump s  basket,  almost outdid herself in terms of horribleness on Friday.\"\n",
    "]\n",
    "\n",
    "test_news_vectors = [preprocess_and_vectorize(n) for n in test_news]\n",
    "clf.predict(test_news_vectors)"
   ]
  },
  {
   "cell_type": "code",
   "execution_count": 24,
   "id": "e24a33ca",
   "metadata": {},
   "outputs": [
    {
     "data": {
      "text/plain": [
       "Text(95.72222222222221, 0.5, 'Truth')"
      ]
     },
     "execution_count": 24,
     "metadata": {},
     "output_type": "execute_result"
    },
    {
     "data": {
      "image/png": "[encoded data removed]",
      "text/plain": [
       "<Figure size 1000x700 with 2 Axes>"
      ]
     },
     "metadata": {},
     "output_type": "display_data"
    }
   ],
   "source": [
    "#finally print the confusion matrix for the best model (GradientBoostingClassifier)\n",
    "\n",
    "from sklearn.metrics import confusion_matrix\n",
    "cm = confusion_matrix(y_test, y_pred)\n",
    "cm\n",
    "\n",
    "\n",
    "from matplotlib import pyplot as plt\n",
    "import seaborn as sn\n",
    "plt.figure(figsize = (10,7))\n",
    "sn.heatmap(cm, annot=True, fmt='d')\n",
    "plt.xlabel('Prediction')\n",
    "plt.ylabel('Truth')"
   ]
  },
  {
   "cell_type": "code",
   "execution_count": null,
   "id": "4a4cbb62",
   "metadata": {},
   "outputs": [],
   "source": []
  }
 ],
 "metadata": {
  "kernelspec": {
   "display_name": "Python 3 (ipykernel)",
   "language": "python",
   "name": "python3"
  },
  "language_info": {
   "codemirror_mode": {
    "name": "ipython",
    "version": 3
   },
   "file_extension": ".py",
   "mimetype": "text/x-python",
   "name": "python",
   "nbconvert_exporter": "python",
   "pygments_lexer": "ipython3",
   "version": "3.10.9"
  }
 },
 "nbformat": 4,
 "nbformat_minor": 5
}
